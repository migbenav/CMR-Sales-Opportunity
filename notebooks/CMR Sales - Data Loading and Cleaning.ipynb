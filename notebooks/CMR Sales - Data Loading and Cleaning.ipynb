{
 "cells": [
  {
   "cell_type": "code",
   "execution_count": 2,
   "id": "0ca55562-21fb-47e2-a139-d8d531da1287",
   "metadata": {},
   "outputs": [
    {
     "name": "stdout",
     "output_type": "stream",
     "text": [
      "['opportunity_id', 'sales_agent', 'product', 'account', 'deal_stage', 'engage_date', 'close_date', 'close_value']\n",
      "['account', 'sector', 'year_established', 'revenue', 'employees', 'office_location', 'subsidiary_of']\n",
      "['product', 'series', 'sales_price']\n",
      "['sales_agent', 'manager', 'regional_office']\n"
     ]
    }
   ],
   "source": [
    "import pandas as pd\n",
    "\n",
    "# Load each file\n",
    "products_df = pd.read_csv(r\"C:\\Users\\mgag2\\OneDrive\\Documentos\\Data\\CRM+Sales+Opportunities\\products.csv\")\n",
    "accounts_df = pd.read_csv(r\"C:\\Users\\mgag2\\OneDrive\\Documentos\\Data\\CRM+Sales+Opportunities\\accounts.csv\")\n",
    "sales_teams_df = pd.read_csv(r\"C:\\Users\\mgag2\\OneDrive\\Documentos\\Data\\CRM+Sales+Opportunities\\sales_teams.csv\")\n",
    "sales_pipeline_df = pd.read_csv(r\"C:\\Users\\mgag2\\OneDrive\\Documentos\\Data\\CRM+Sales+Opportunities\\sales_pipeline.csv\")\n",
    "\n",
    "# See only headers\n",
    "print(sales_pipeline_df.columns.tolist())\n",
    "print(accounts_df.columns.tolist())\n",
    "print(products_df.columns.tolist())\n",
    "print(sales_teams_df.columns.tolist())"
   ]
  },
  {
   "cell_type": "code",
   "execution_count": 8,
   "id": "59e75d76-b00b-486f-81a0-abead6556198",
   "metadata": {},
   "outputs": [
    {
     "name": "stdout",
     "output_type": "stream",
     "text": [
      "Sales Pipeline sample\n",
      "\n",
      "  opportunity_id      sales_agent         product  account deal_stage  \\\n",
      "0       1C1I7A6R      Moses Frase  GTX Plus Basic  Cancity        Won   \n",
      "1       Z063OYW0  Darcel Schlecht          GTXPro    Isdom        Won   \n",
      "2       EC4QE1BX  Darcel Schlecht      MG Special  Cancity        Won   \n",
      "3       MV1LWRNH      Moses Frase       GTX Basic  Codehow        Won   \n",
      "4       PE84CX4O        Zane Levy       GTX Basic   Hatfan        Won   \n",
      "\n",
      "  engage_date  close_date  close_value  \n",
      "0  2016-10-20  2017-03-01       1054.0  \n",
      "1  2016-10-25  2017-03-11       4514.0  \n",
      "2  2016-10-25  2017-03-07         50.0  \n",
      "3  2016-10-25  2017-03-09        588.0  \n",
      "4  2016-10-25  2017-03-02        517.0  \n",
      "\n",
      "Products sample\n",
      "\n",
      "        product series  sales_price\n",
      "0     GTX Basic    GTX          550\n",
      "1       GTX Pro    GTX         4821\n",
      "2    MG Special     MG           55\n",
      "3   MG Advanced     MG         3393\n",
      "4  GTX Plus Pro    GTX         5482\n",
      "\n",
      "Accounts sample\n",
      "\n",
      "            account     sector  year_established  revenue  employees  \\\n",
      "0  Acme Corporation  technolgy              1996  1100.04       2822   \n",
      "1        Betasoloin    medical              1999   251.41        495   \n",
      "2          Betatech    medical              1986   647.18       1185   \n",
      "3        Bioholding    medical              2012   587.34       1356   \n",
      "4           Bioplex    medical              1991   326.82       1016   \n",
      "\n",
      "  office_location subsidiary_of  \n",
      "0   United States           NaN  \n",
      "1   United States           NaN  \n",
      "2           Kenya           NaN  \n",
      "3      Philipines           NaN  \n",
      "4   United States           NaN  \n",
      "\n",
      "Sales Team sample\n",
      "\n",
      "         sales_agent           manager regional_office\n",
      "0      Anna Snelling  Dustin Brinkmann         Central\n",
      "1     Cecily Lampkin  Dustin Brinkmann         Central\n",
      "2  Versie Hillebrand  Dustin Brinkmann         Central\n",
      "3    Lajuana Vencill  Dustin Brinkmann         Central\n",
      "4        Moses Frase  Dustin Brinkmann         Central\n"
     ]
    }
   ],
   "source": [
    "# See data\n",
    "print(\"Sales Pipeline sample\")\n",
    "print(\"\")\n",
    "print(sales_pipeline_df.head())\n",
    "print(\"\")\n",
    "print(\"Products sample\")\n",
    "print(\"\")\n",
    "print(products_df.head())\n",
    "print(\"\")\n",
    "print(\"Accounts sample\")\n",
    "print(\"\")\n",
    "print(accounts_df.head())\n",
    "print(\"\")\n",
    "print(\"Sales Team sample\")\n",
    "print(\"\")\n",
    "print(sales_teams_df.head())"
   ]
  },
  {
   "cell_type": "code",
   "execution_count": 10,
   "id": "748c5618-2b60-49ba-afbe-02af000a8d04",
   "metadata": {},
   "outputs": [
    {
     "data": {
      "text/html": [
       "<div>\n",
       "<style scoped>\n",
       "    .dataframe tbody tr th:only-of-type {\n",
       "        vertical-align: middle;\n",
       "    }\n",
       "\n",
       "    .dataframe tbody tr th {\n",
       "        vertical-align: top;\n",
       "    }\n",
       "\n",
       "    .dataframe thead th {\n",
       "        text-align: right;\n",
       "    }\n",
       "</style>\n",
       "<table border=\"1\" class=\"dataframe\">\n",
       "  <thead>\n",
       "    <tr style=\"text-align: right;\">\n",
       "      <th></th>\n",
       "      <th>Column</th>\n",
       "      <th>Type</th>\n",
       "      <th>Count</th>\n",
       "      <th>Unique</th>\n",
       "      <th>Missing</th>\n",
       "      <th>Min</th>\n",
       "      <th>Max</th>\n",
       "      <th>Average</th>\n",
       "    </tr>\n",
       "  </thead>\n",
       "  <tbody>\n",
       "    <tr>\n",
       "      <th>0</th>\n",
       "      <td>opportunity_id</td>\n",
       "      <td>object</td>\n",
       "      <td>8800</td>\n",
       "      <td>8800</td>\n",
       "      <td>0</td>\n",
       "      <td>NaN</td>\n",
       "      <td>NaN</td>\n",
       "      <td>NaN</td>\n",
       "    </tr>\n",
       "    <tr>\n",
       "      <th>1</th>\n",
       "      <td>sales_agent</td>\n",
       "      <td>object</td>\n",
       "      <td>8800</td>\n",
       "      <td>30</td>\n",
       "      <td>0</td>\n",
       "      <td>NaN</td>\n",
       "      <td>NaN</td>\n",
       "      <td>NaN</td>\n",
       "    </tr>\n",
       "    <tr>\n",
       "      <th>2</th>\n",
       "      <td>product</td>\n",
       "      <td>object</td>\n",
       "      <td>8800</td>\n",
       "      <td>7</td>\n",
       "      <td>0</td>\n",
       "      <td>NaN</td>\n",
       "      <td>NaN</td>\n",
       "      <td>NaN</td>\n",
       "    </tr>\n",
       "    <tr>\n",
       "      <th>3</th>\n",
       "      <td>account</td>\n",
       "      <td>object</td>\n",
       "      <td>7375</td>\n",
       "      <td>85</td>\n",
       "      <td>1425</td>\n",
       "      <td>NaN</td>\n",
       "      <td>NaN</td>\n",
       "      <td>NaN</td>\n",
       "    </tr>\n",
       "    <tr>\n",
       "      <th>4</th>\n",
       "      <td>deal_stage</td>\n",
       "      <td>object</td>\n",
       "      <td>8800</td>\n",
       "      <td>4</td>\n",
       "      <td>0</td>\n",
       "      <td>NaN</td>\n",
       "      <td>NaN</td>\n",
       "      <td>NaN</td>\n",
       "    </tr>\n",
       "    <tr>\n",
       "      <th>5</th>\n",
       "      <td>engage_date</td>\n",
       "      <td>object</td>\n",
       "      <td>8300</td>\n",
       "      <td>421</td>\n",
       "      <td>500</td>\n",
       "      <td>NaN</td>\n",
       "      <td>NaN</td>\n",
       "      <td>NaN</td>\n",
       "    </tr>\n",
       "    <tr>\n",
       "      <th>6</th>\n",
       "      <td>close_date</td>\n",
       "      <td>object</td>\n",
       "      <td>6711</td>\n",
       "      <td>306</td>\n",
       "      <td>2089</td>\n",
       "      <td>NaN</td>\n",
       "      <td>NaN</td>\n",
       "      <td>NaN</td>\n",
       "    </tr>\n",
       "    <tr>\n",
       "      <th>7</th>\n",
       "      <td>close_value</td>\n",
       "      <td>float64</td>\n",
       "      <td>6711</td>\n",
       "      <td>2051</td>\n",
       "      <td>2089</td>\n",
       "      <td>0.0</td>\n",
       "      <td>30288.0</td>\n",
       "      <td>1490.915512</td>\n",
       "    </tr>\n",
       "  </tbody>\n",
       "</table>\n",
       "</div>"
      ],
      "text/plain": [
       "           Column     Type  Count  Unique  Missing  Min      Max      Average\n",
       "0  opportunity_id   object   8800    8800        0  NaN      NaN          NaN\n",
       "1     sales_agent   object   8800      30        0  NaN      NaN          NaN\n",
       "2         product   object   8800       7        0  NaN      NaN          NaN\n",
       "3         account   object   7375      85     1425  NaN      NaN          NaN\n",
       "4      deal_stage   object   8800       4        0  NaN      NaN          NaN\n",
       "5     engage_date   object   8300     421      500  NaN      NaN          NaN\n",
       "6      close_date   object   6711     306     2089  NaN      NaN          NaN\n",
       "7     close_value  float64   6711    2051     2089  0.0  30288.0  1490.915512"
      ]
     },
     "execution_count": 10,
     "metadata": {},
     "output_type": "execute_result"
    }
   ],
   "source": [
    "#Check data with custom function based on describe\n",
    "from custom_summary import custom_describe\n",
    "custom_describe(sales_pipeline_df)"
   ]
  },
  {
   "cell_type": "markdown",
   "id": "da9fbb42-cd81-403b-92c0-f9984212dd70",
   "metadata": {},
   "source": [
    "#### The data is mostly clean, but there is a couple of things we need to handle.\n",
    "\n",
    "1. There's a product name that was incorrectly added to the pipeline file.\n",
    "2. There are 1425 missing values for account in the pipeline file."
   ]
  },
  {
   "cell_type": "code",
   "execution_count": 14,
   "id": "a1ebd033-83cd-47f2-821b-7b11fe294d70",
   "metadata": {},
   "outputs": [
    {
     "name": "stdout",
     "output_type": "stream",
     "text": [
      "7361           GTX Pro\n",
      "2258        MG Special\n",
      "2431       MG Advanced\n",
      "3462      GTX Plus Pro\n",
      "7651       MG Advanced\n",
      "6213    GTX Plus Basic\n",
      "1664       MG Advanced\n",
      "3194         GTX Basic\n",
      "5695    GTX Plus Basic\n",
      "7515    GTX Plus Basic\n",
      "Name: product, dtype: object\n"
     ]
    }
   ],
   "source": [
    "# Fixing product name in sales_pipeline\n",
    "# Replace only in the 'product' column\n",
    "sales_pipeline_df['product'] = sales_pipeline_df['product'].replace(\"GTXPro\", \"GTX Pro\")\n",
    "print(sales_pipeline_df['product'].sample(10))"
   ]
  },
  {
   "cell_type": "code",
   "execution_count": 16,
   "id": "cac1d901-b834-45ec-b63b-306b4fd533c8",
   "metadata": {},
   "outputs": [
    {
     "name": "stdout",
     "output_type": "stream",
     "text": [
      "All products matched!\n"
     ]
    }
   ],
   "source": [
    "# Merge sales pipeline with products\n",
    "sales_with_products = pd.merge(sales_pipeline_df, products_df, on=\"product\", how=\"left\")\n",
    "\n",
    "# Ensure all rows are matched\n",
    "num_unmatched = sales_with_products['product'].isna().sum()\n",
    "if num_unmatched == 0:\n",
    "    print(\"All products matched!\")\n",
    "else:\n",
    "    print(f\"There are {num_unmatched} unmatched products.\")"
   ]
  },
  {
   "cell_type": "code",
   "execution_count": 18,
   "id": "1e3a29d2-b33f-4547-8afb-29804928010f",
   "metadata": {},
   "outputs": [
    {
     "name": "stdout",
     "output_type": "stream",
     "text": [
      "There are 1425 unmatched accounts.\n"
     ]
    }
   ],
   "source": [
    "# Merge result with accounts\n",
    "sales_with_accounts = pd.merge(sales_with_products, accounts_df, on=\"account\", how=\"left\")\n",
    "\n",
    "num_unmatched = sales_with_accounts['account'].isna().sum()\n",
    "if num_unmatched == 0:\n",
    "    print(\"All accounts matched!\")\n",
    "else:\n",
    "    print(f\"There are {num_unmatched} unmatched accounts.\")"
   ]
  },
  {
   "cell_type": "markdown",
   "id": "5a9f29aa-6320-4eb0-aea4-c357bc6030bb",
   "metadata": {},
   "source": [
    "#### As we expected, 1425 lines didn't match due to missing values.  This do not represent an issue because we won't be using that information this time."
   ]
  },
  {
   "cell_type": "code",
   "execution_count": 20,
   "id": "40c76d17-f26f-4a53-8cd0-4b548d3b8420",
   "metadata": {},
   "outputs": [
    {
     "name": "stdout",
     "output_type": "stream",
     "text": [
      "All sales agents matched!\n"
     ]
    }
   ],
   "source": [
    "# Merge result with sales teams\n",
    "sales_df = pd.merge(sales_with_accounts, sales_teams_df, on=\"sales_agent\", how=\"left\")\n",
    "num_unmatched = sales_df['sales_agent'].isna().sum()\n",
    "if num_unmatched == 0:\n",
    "    print(\"All sales agents matched!\")\n",
    "else:\n",
    "    print(f\"There are {num_unmatched} unmatched sales agents.\")"
   ]
  },
  {
   "cell_type": "code",
   "execution_count": 22,
   "id": "5cbe911e-7524-411f-9202-ef842619d7b2",
   "metadata": {},
   "outputs": [
    {
     "name": "stdout",
     "output_type": "stream",
     "text": [
      "<class 'pandas.core.frame.DataFrame'>\n",
      "RangeIndex: 8800 entries, 0 to 8799\n",
      "Data columns (total 18 columns):\n",
      " #   Column            Non-Null Count  Dtype  \n",
      "---  ------            --------------  -----  \n",
      " 0   opportunity_id    8800 non-null   object \n",
      " 1   sales_agent       8800 non-null   object \n",
      " 2   product           8800 non-null   object \n",
      " 3   account           7375 non-null   object \n",
      " 4   deal_stage        8800 non-null   object \n",
      " 5   engage_date       8300 non-null   object \n",
      " 6   close_date        6711 non-null   object \n",
      " 7   close_value       6711 non-null   float64\n",
      " 8   series            8800 non-null   object \n",
      " 9   sales_price       8800 non-null   int64  \n",
      " 10  sector            7375 non-null   object \n",
      " 11  year_established  7375 non-null   float64\n",
      " 12  revenue           7375 non-null   float64\n",
      " 13  employees         7375 non-null   float64\n",
      " 14  office_location   7375 non-null   object \n",
      " 15  subsidiary_of     1292 non-null   object \n",
      " 16  manager           8800 non-null   object \n",
      " 17  regional_office   8800 non-null   object \n",
      "dtypes: float64(4), int64(1), object(13)\n",
      "memory usage: 1.2+ MB\n",
      "None\n"
     ]
    }
   ],
   "source": [
    "print(sales_df.info())"
   ]
  },
  {
   "cell_type": "code",
   "execution_count": 24,
   "id": "934330a4-34c2-4a4e-bd22-5761f587939c",
   "metadata": {},
   "outputs": [
    {
     "name": "stdout",
     "output_type": "stream",
     "text": [
      "['Won' 'Engaging' 'Lost' 'Prospecting']\n"
     ]
    }
   ],
   "source": [
    "print(sales_df['deal_stage'].unique())"
   ]
  },
  {
   "cell_type": "markdown",
   "id": "0bf759e7-dd11-4da4-9242-97f9dc682ced",
   "metadata": {},
   "source": [
    "#### Creating a new column named 'main_stage' to rename the Won and Lost stages."
   ]
  },
  {
   "cell_type": "code",
   "execution_count": 26,
   "id": "bf98b412-c9dc-4f05-ab04-46b9dfa5f5c6",
   "metadata": {},
   "outputs": [
    {
     "name": "stdout",
     "output_type": "stream",
     "text": [
      "['opportunity_id', 'sales_agent', 'product', 'account', 'deal_stage', 'engage_date', 'close_date', 'close_value', 'series', 'sales_price', 'sector', 'year_established', 'revenue', 'employees', 'office_location', 'subsidiary_of', 'manager', 'regional_office', 'main_stage']\n"
     ]
    }
   ],
   "source": [
    "# Function to determine main_stage\n",
    "def determine_main_stage(deal_stage):\n",
    "    if deal_stage == 'Won':\n",
    "        return 'Closed Won'\n",
    "    elif deal_stage == 'Lost':\n",
    "        return 'Closed Lost'\n",
    "    else:\n",
    "        return deal_stage\n",
    "\n",
    "# Apply the function to create next_stage column\n",
    "sales_df['main_stage'] = sales_df['deal_stage'].apply(determine_main_stage)\n",
    "print(sales_df.columns.tolist())"
   ]
  },
  {
   "cell_type": "code",
   "execution_count": 28,
   "id": "0f4c28e8-7b56-447c-9484-408e3ddf7a0b",
   "metadata": {},
   "outputs": [
    {
     "name": "stdout",
     "output_type": "stream",
     "text": [
      "['Closed Won' 'Engaging' 'Closed Lost' 'Prospecting']\n"
     ]
    }
   ],
   "source": [
    "print(sales_df['main_stage'].unique())"
   ]
  },
  {
   "cell_type": "markdown",
   "id": "223a4601-d25c-4276-9851-6588b173fb9f",
   "metadata": {},
   "source": [
    "#### This dataframe will be used in other notebooks, saving it"
   ]
  },
  {
   "cell_type": "code",
   "execution_count": 30,
   "id": "3e8e16a8-e938-46e6-b8df-162237274585",
   "metadata": {},
   "outputs": [
    {
     "name": "stdout",
     "output_type": "stream",
     "text": [
      "Stored 'sales_df' (DataFrame)\n"
     ]
    }
   ],
   "source": [
    "%store sales_df"
   ]
  }
 ],
 "metadata": {
  "kernelspec": {
   "display_name": "Python 3 (ipykernel)",
   "language": "python",
   "name": "python3"
  },
  "language_info": {
   "codemirror_mode": {
    "name": "ipython",
    "version": 3
   },
   "file_extension": ".py",
   "mimetype": "text/x-python",
   "name": "python",
   "nbconvert_exporter": "python",
   "pygments_lexer": "ipython3",
   "version": "3.12.3"
  }
 },
 "nbformat": 4,
 "nbformat_minor": 5
}
